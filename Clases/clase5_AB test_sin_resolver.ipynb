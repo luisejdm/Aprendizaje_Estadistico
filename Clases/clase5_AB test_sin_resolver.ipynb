{
 "cells": [
  {
   "cell_type": "code",
   "execution_count": 1,
   "metadata": {},
   "outputs": [],
   "source": [
    "import pandas as pd\n",
    "import matplotlib.pyplot as plt\n",
    "import numpy as np\n",
    "from scipy import stats\n",
    "import seaborn as sns\n",
    " \n",
    "\n",
    "# Tenemos la siguiente pregunta, un grupo de sociologos reunieron datos para ver \n",
    "# si las clases sen linea son malas o buenas, tomando como métrica un examen\n",
    "# Puedo ver el promedio de los examenes y usarlo como métrica definitoria\n",
    "data = pd.read_csv(\"online_classroom.csv\")\n",
    "online = data.query(\"format_ol==1\")[\"falsexam\"]\n",
    "face_to_face = data.query(\"format_ol==0 & format_blended==0\")[\"falsexam\"]\n"
   ]
  },
  {
   "cell_type": "code",
   "execution_count": 2,
   "metadata": {},
   "outputs": [
    {
     "data": {
      "text/plain": [
       "(78.54748458333333, 120)"
      ]
     },
     "execution_count": 2,
     "metadata": {},
     "output_type": "execute_result"
    }
   ],
   "source": [
    "# Promedio y longitud presencial\n",
    "(face_to_face.mean(), len(face_to_face))"
   ]
  },
  {
   "cell_type": "code",
   "execution_count": 3,
   "metadata": {},
   "outputs": [
    {
     "data": {
      "text/plain": [
       "(73.63526308510637, 94)"
      ]
     },
     "execution_count": 3,
     "metadata": {},
     "output_type": "execute_result"
    }
   ],
   "source": [
    "# Promedio y tamaño online\n",
    "(online.mean(), len(online))"
   ]
  },
  {
   "cell_type": "markdown",
   "metadata": {},
   "source": [
    "Diferencia entre los promedios, ¿esto es confiable?"
   ]
  },
  {
   "cell_type": "code",
   "execution_count": 4,
   "metadata": {},
   "outputs": [
    {
     "data": {
      "text/plain": [
       "4.912221498226955"
      ]
     },
     "execution_count": 4,
     "metadata": {},
     "output_type": "execute_result"
    }
   ],
   "source": [
    "face_to_face.mean() - online.mean()"
   ]
  },
  {
   "cell_type": "markdown",
   "metadata": {},
   "source": [
    "La verdad es que no tengo muchos datos, recolectar más muchas veces es complicado y costoso. Necesito una conclusión.\n",
    "\n",
    "**La diferencia promedio entre online y presencial es significativa, si o no**\n",
    "\n",
    "¿Cómo le puedo hacer?"
   ]
  },
  {
   "cell_type": "markdown",
   "metadata": {},
   "source": [
    "### Teorema central del límite\n",
    "\n",
    "Los promedios siguen una distribución normal"
   ]
  },
  {
   "cell_type": "code",
   "execution_count": 5,
   "metadata": {},
   "outputs": [
    {
     "data": {
      "image/png": "[encoded data removed]",
      "text/plain": [
       "<Figure size 640x480 with 1 Axes>"
      ]
     },
     "metadata": {},
     "output_type": "display_data"
    }
   ],
   "source": [
    "## Ejemplo, face to face no es normal\n",
    "plt.hist(face_to_face)\n",
    "plt.show()"
   ]
  },
  {
   "cell_type": "markdown",
   "metadata": {},
   "source": [
    "Pero si lo resampleo y tomo sus promedios si sería normal"
   ]
  },
  {
   "cell_type": "code",
   "execution_count": 6,
   "metadata": {},
   "outputs": [
    {
     "data": {
      "text/plain": [
       "a    2.8\n",
       "dtype: float64"
      ]
     },
     "execution_count": 6,
     "metadata": {},
     "output_type": "execute_result"
    }
   ],
   "source": [
    "data_bootstrap = pd.DataFrame({\n",
    "    'a': [1, 2, 3, 4, 5]\n",
    "})\n",
    "\n",
    "data_bootstrap.sample(5, replace=True).mean()"
   ]
  },
  {
   "cell_type": "code",
   "execution_count": 7,
   "metadata": {},
   "outputs": [
    {
     "data": {
      "image/png": "[encoded data removed]",
      "text/plain": [
       "<Figure size 640x480 with 1 Axes>"
      ]
     },
     "metadata": {},
     "output_type": "display_data"
    }
   ],
   "source": [
    "promedios = []\n",
    "\n",
    "for i in range(1000):\n",
    "    promedios.append(face_to_face.sample(len(face_to_face), replace=True).mean())\n",
    "    \n",
    "plt.hist(promedios, bins=50)\n",
    "plt.show()"
   ]
  },
  {
   "cell_type": "markdown",
   "metadata": {},
   "source": [
    "Los promedios mágicamente siguen una distribución normal"
   ]
  },
  {
   "cell_type": "markdown",
   "metadata": {},
   "source": [
    "### Error estandard"
   ]
  },
  {
   "cell_type": "markdown",
   "metadata": {},
   "source": [
    "El error estandard sería la desviación estandard de los promedios posibles\n",
    "\n",
    "\n",
    "Si $X$ son $n$ observaciones independientes con una media $\\mu$ y una varianza $\\sigma^2$\n",
    "\n",
    "$T = (X_1 + X_2 + X_3 + ... + X_n)$\n",
    "\n",
    "$Var(T) = n\\sigma^2$\n",
    "\n",
    "$Var(\\frac{T}{n}) = Var(\\frac{1}{n} * T) = \\frac{1}{n^2} * Var(T) = \\frac{1}{n^2} * n\\sigma^2  = \\frac{\\sigma^2}{n}$\n",
    "\n",
    "Ojo: la varianza de $\\frac{T}{n}$ es la varianza de los promedios\n",
    "\n",
    "\n",
    "La desviación estandard de lo anterior sería:\n",
    "\n",
    "$Sd(\\frac{T}{n}) = \\frac{\\sigma}{\\sqrt{n}}$"
   ]
  },
  {
   "cell_type": "code",
   "execution_count": 8,
   "metadata": {},
   "outputs": [
    {
     "data": {
      "text/plain": [
       "0.8723511456319106"
      ]
     },
     "execution_count": 8,
     "metadata": {},
     "output_type": "execute_result"
    }
   ],
   "source": [
    "### Error estandard de face to face\n",
    "face_to_face.std() / np.sqrt(len(face_to_face))"
   ]
  },
  {
   "cell_type": "code",
   "execution_count": 9,
   "metadata": {},
   "outputs": [
    {
     "data": {
      "text/plain": [
       "0.8463225130661388"
      ]
     },
     "execution_count": 9,
     "metadata": {},
     "output_type": "execute_result"
    }
   ],
   "source": [
    "# La desvición estandard de nuestra simulación debe ser muy similar\n",
    "np.std(promedios)"
   ]
  },
  {
   "cell_type": "code",
   "execution_count": 10,
   "metadata": {},
   "outputs": [
    {
     "data": {
      "text/plain": [
       "0.8723511456319106"
      ]
     },
     "execution_count": 10,
     "metadata": {},
     "output_type": "execute_result"
    }
   ],
   "source": [
    "# Si usamos pandas\n",
    "face_to_face.sem()"
   ]
  },
  {
   "cell_type": "markdown",
   "metadata": {},
   "source": [
    "### Explicar que es el error estandard"
   ]
  },
  {
   "cell_type": "markdown",
   "metadata": {},
   "source": [
    "Tenemos una muestra de datos la cual pertenece a una muestra mayor la cual no conocemos.\n",
    "\n",
    "Los promeddios posibles de esa muestra hipotetica de datos siguen una _distribución normal_ por el teorema central del límite  \n",
    "\n",
    "Matemáticamente sabemos que la desviación estandard de ese promedio desconocido es el error estandard\n",
    "\n"
   ]
  },
  {
   "cell_type": "markdown",
   "metadata": {},
   "source": [
    "#### Aplicando el error estandard\n",
    "\n",
    "Si los promedios de mis datos siguen una distribución normal, puedo sacar algunas conclusiones interesantes. \n",
    "\n",
    "Sabemos que dentro de una distribución normal\n",
    "- 1 desviación estandard estan 66% de los datos\n",
    "- 2 desviaciones estandard están 95% de los datos\n",
    "- 3 desviaciones estandard estan 99% de los datos\n",
    "\n",
    "\n",
    "\n"
   ]
  },
  {
   "cell_type": "code",
   "execution_count": 11,
   "metadata": {},
   "outputs": [],
   "source": [
    "# Error estandard de las variables en cuestión\n"
   ]
  },
  {
   "cell_type": "markdown",
   "metadata": {},
   "source": [
    "### Intervalo de confianza\n",
    "\n",
    "Dame el intervalo de confianza al 95% del promedio de clases en linea y presencial\n"
   ]
  },
  {
   "cell_type": "code",
   "execution_count": 12,
   "metadata": {},
   "outputs": [
    {
     "data": {
      "text/plain": [
       "(70.56094429049804, 76.7095818797147)"
      ]
     },
     "execution_count": 12,
     "metadata": {},
     "output_type": "execute_result"
    }
   ],
   "source": [
    "(online.mean() - 2*online.sem(), online.mean() + 2*online.sem())"
   ]
  },
  {
   "cell_type": "code",
   "execution_count": 13,
   "metadata": {},
   "outputs": [
    {
     "data": {
      "text/plain": [
       "(76.80278229206951, 80.29218687459715)"
      ]
     },
     "execution_count": 13,
     "metadata": {},
     "output_type": "execute_result"
    }
   ],
   "source": [
    "(face_to_face.mean() - 2*face_to_face.sem(), face_to_face.mean() + 2*face_to_face.sem())"
   ]
  },
  {
   "cell_type": "markdown",
   "metadata": {},
   "source": [
    "### Prueba de hipotesis\n",
    "\n",
    "Al sumar dos variables normaes:\n",
    "\n",
    "$N(\\mu_1, \\sigma^2_1) + N(\\mu_2, \\sigma^2_2)  = N(\\mu_1 + \\mu_2, \\sigma^2_1 + \\sigma^2_2)$ \n",
    "\n",
    "Y al restar\n",
    "$N(\\mu_1, \\sigma^2_1) - N(\\mu_2, \\sigma^2_2)  = N(\\mu_1 - \\mu_2, \\sigma^2_1 + \\sigma^2_2)$ \n",
    "\n",
    "Si no me creen:\n",
    "\n",
    "histtype='step'"
   ]
  },
  {
   "cell_type": "code",
   "execution_count": 14,
   "metadata": {},
   "outputs": [
    {
     "data": {
      "image/png": "[encoded data removed]",
      "text/plain": [
       "<Figure size 640x480 with 1 Axes>"
      ]
     },
     "metadata": {},
     "output_type": "display_data"
    }
   ],
   "source": [
    "np.random.seed(123)\n",
    "df_normals = pd.DataFrame({\n",
    "    'n1': np.random.normal(4, 3, 30000),\n",
    "    'n2': np.random.normal(1, 4, 30000)\n",
    "})\n",
    "\n",
    "df_normals['difference'] = df_normals['n1'] - df_normals['n2']\n",
    "\n",
    "plt.hist(df_normals['n1'], histtype='step', density=True, bins=50, label='n1', color='cadetblue')\n",
    "plt.hist(df_normals['n2'], histtype='step', density=True, bins=50, label='n2', color='yellow')\n",
    "plt.hist(df_normals['difference'], histtype='step', density=True, bins=50, label='difference', color='r')\n",
    "plt.legend()\n",
    "plt.show()"
   ]
  },
  {
   "cell_type": "markdown",
   "metadata": {},
   "source": [
    "En este caso, sabemos que *los promedios* tienen una distribución normal "
   ]
  },
  {
   "cell_type": "markdown",
   "metadata": {},
   "source": [
    "En este momento yo tengo dos promedios con sus respectivas desviaciones estandard, quiere decir que puedo combinar la distribución de las clases online y presencial. \n",
    "\n",
    "Al hacer esta combinación podría sacar estadísticas interesantes.\n",
    "\n",
    "¿Las diferencias entre online y presencial como se ven? ¿Cuál es su distribución ¿Eso me puede ayudar a determinar que es mejor?\n",
    "\n",
    "\n",
    "$\\mu_{diff} = \\mu_1 - \\mu_2 $\n",
    "\n",
    "$SE_{diff} = \\sqrt{SE^2_1 + SE^2_2}$"
   ]
  },
  {
   "cell_type": "code",
   "execution_count": 15,
   "metadata": {},
   "outputs": [
    {
     "name": "stdout",
     "output_type": "stream",
     "text": [
      "Intervalo de confianza del efecto causal -8.44710793714168 y -1.3773350593122302\n"
     ]
    }
   ],
   "source": [
    "### Mu diff\n",
    "mu_diff = online.mean() - face_to_face.mean()\n",
    "\n",
    "## SE diff\n",
    "se_diff = np.sqrt((online.var()) / len(online) + (face_to_face.var() / len(face_to_face)))\n",
    "\n",
    "# CI\n",
    "print(f'Intervalo de confianza del efecto causal {mu_diff - 2*se_diff} y {mu_diff + 2*se_diff}')"
   ]
  },
  {
   "cell_type": "markdown",
   "metadata": {},
   "source": [
    "stats.norm.pdf\n",
    "plt.vlines"
   ]
  },
  {
   "cell_type": "code",
   "execution_count": 16,
   "metadata": {},
   "outputs": [
    {
     "data": {
      "image/png": "[encoded data removed]",
      "text/plain": [
       "<Figure size 640x480 with 1 Axes>"
      ]
     },
     "metadata": {},
     "output_type": "display_data"
    }
   ],
   "source": [
    "## Visualizando \n",
    "x = np.linspace(mu_diff - 4*se_diff, mu_diff + 4*se_diff, 1000)\n",
    "y = stats.norm.pdf(x, mu_diff, se_diff)\n",
    "\n",
    "plt.vlines(mu_diff - 2*se_diff, ymin=0, ymax=0.05)\n",
    "plt.vlines(mu_diff + 2*se_diff, ymin=0, ymax=0.05)\n",
    "plt.plot(x, y)\n",
    "plt.show()"
   ]
  },
  {
   "cell_type": "markdown",
   "metadata": {},
   "source": [
    "Con esto en mano, podemos decir que hay un 95% de confianza de que la verdadera diferencia en medias de online y clases presenciales este entre -8.37 y -1.44\n",
    "\n",
    "\n",
    "\n",
    "#### Repasando: estadístico Z\n",
    "Si X es una variable aleatoria normalmente distribuida y $X ~ N(μ, σ)$, entonces la puntuación z para una determinada $x$ es:\n",
    "\n",
    "$z = \\frac{x - \\mu}{\\sigma}$\n",
    "\n",
    "\n",
    "Como han visto en sus otras clases, hacer algo \"normal estandard\" es simplemente escalar sus datos a que tengan media 0 y varianza 1\n",
    "\n",
    "\n",
    "\n",
    "\n",
    "#### Adaptnado esto al problema\n",
    "\n",
    "Podría transformar las diferencias entre online y presencial a una distribución nor,al estandard, _asumiendo que la diferencia real es 0_ (lingo estadístico: la hipotesis nula $H_0$=0).\n",
    "\n",
    "Al hacer esto, puedo ver que tan extremo se ve esta diferencia en la distribución normal estandard, si da muy extremo entonces seria raro y podemos calcular la probabilidad de que sea azar.\n",
    "\n",
    "- $x$ serían las diferencias \n",
    "- $\\mu$ sería 0, ya que quiero ve tan probable es esto\n",
    "- $\\sigma$ sería el error estandard de las diferencias \n",
    "\n",
    "De esto:\n",
    "\n",
    "$z = \\frac{x - \\mu}{\\sigma}$\n",
    "\n",
    "Pasamos a esto:\n",
    "\n",
    "\n",
    "$z = \\frac{\\mu_{diff} - H_0}{SE_{diff}}$\n",
    "\n",
    "Dado que mi hipotesis es que los promedios _no varían_, $H_0 = 0$ \n",
    "\n",
    "$z = \\frac{\\mu_{diff}}{SE_{diff}}$\n",
    "\n",
    "\n"
   ]
  },
  {
   "cell_type": "code",
   "execution_count": 17,
   "metadata": {},
   "outputs": [
    {
     "data": {
      "text/plain": [
       "-2.7792810791031224"
      ]
     },
     "execution_count": 17,
     "metadata": {},
     "output_type": "execute_result"
    }
   ],
   "source": [
    "# Calcula el estadístico Z\n",
    "z = mu_diff / se_diff\n",
    "z"
   ]
  },
  {
   "cell_type": "markdown",
   "metadata": {},
   "source": [
    "En una distribución normal estandard, este resultado Z es bastante extremo no parece ser resultado de azar"
   ]
  },
  {
   "cell_type": "markdown",
   "metadata": {},
   "source": [
    "stats.norm.cdf"
   ]
  },
  {
   "cell_type": "code",
   "execution_count": 18,
   "metadata": {},
   "outputs": [
    {
     "data": {
      "text/plain": [
       "0.0027239680835563383"
      ]
     },
     "execution_count": 18,
     "metadata": {},
     "output_type": "execute_result"
    }
   ],
   "source": [
    "# Obten el p value\n",
    "stats.norm.cdf(z)"
   ]
  },
  {
   "cell_type": "code",
   "execution_count": 19,
   "metadata": {},
   "outputs": [],
   "source": [
    "## Probabilidad de que las diferencias entre desempeños sean producto del azar\n"
   ]
  },
  {
   "cell_type": "code",
   "execution_count": null,
   "metadata": {},
   "outputs": [],
   "source": []
  },
  {
   "cell_type": "code",
   "execution_count": 32,
   "metadata": {},
   "outputs": [
    {
     "name": "stdout",
     "output_type": "stream",
     "text": [
      "Variable test entre 76.8028 y 80.2922\n",
      "Variable control entre 70.5609 y 76.7096\n",
      "Z score: -2.7793\n",
      "P value: 0.0027\n"
     ]
    }
   ],
   "source": [
    "## Crea un código base para el AB test\n",
    "def AB_test(test, control):\n",
    "    # Mu\n",
    "    mu_test = test.mean()\n",
    "    mu_control = control.mean()\n",
    "    \n",
    "    # SE\n",
    "    se_test = test.sem()\n",
    "    se_control = control.sem()\n",
    "    \n",
    "    # Differences\n",
    "    mu_diff = mu_control - mu_test\n",
    "    se_diff = np.sqrt((test.var() / len(test) + (control.var() / len(control))))\n",
    "    \n",
    "    # Z score and p value \n",
    "    z = mu_diff / se_diff\n",
    "    p_value = stats.norm.cdf(z)\n",
    "    \n",
    "    # Resultados\n",
    "    print(f'Variable test entre {(mu_test - 2*se_test):.4f} y {(mu_test + 2*se_test):.4f}')\n",
    "    print(f'Variable control entre {(mu_control - 2*se_control):.4f} y {(mu_control + 2*se_control):.4f}')\n",
    "    print(f'Z score: {z:.4f}')\n",
    "    print(f'P value: {p_value:.4f}')\n",
    "\n",
    "    \n",
    "AB_test(face_to_face, online)"
   ]
  },
  {
   "cell_type": "code",
   "execution_count": null,
   "metadata": {},
   "outputs": [],
   "source": []
  },
  {
   "cell_type": "code",
   "execution_count": null,
   "metadata": {},
   "outputs": [],
   "source": []
  },
  {
   "cell_type": "code",
   "execution_count": null,
   "metadata": {},
   "outputs": [],
   "source": []
  },
  {
   "cell_type": "code",
   "execution_count": 28,
   "metadata": {},
   "outputs": [],
   "source": [
    "df = pd.read_csv('housing.csv')"
   ]
  },
  {
   "cell_type": "code",
   "execution_count": 29,
   "metadata": {},
   "outputs": [
    {
     "data": {
      "text/plain": [
       "ocean_proximity\n",
       "<1H OCEAN     240084.285464\n",
       "INLAND        124805.392001\n",
       "ISLAND        380440.000000\n",
       "NEAR BAY      259212.311790\n",
       "NEAR OCEAN    249433.977427\n",
       "Name: median_house_value, dtype: float64"
      ]
     },
     "execution_count": 29,
     "metadata": {},
     "output_type": "execute_result"
    }
   ],
   "source": [
    "df.groupby('ocean_proximity').mean()['median_house_value']"
   ]
  },
  {
   "cell_type": "code",
   "execution_count": 35,
   "metadata": {},
   "outputs": [
    {
     "data": {
      "text/plain": [
       "ocean_proximity\n",
       "<1H OCEAN     9136\n",
       "INLAND        6551\n",
       "ISLAND           5\n",
       "NEAR BAY      2290\n",
       "NEAR OCEAN    2658\n",
       "Name: median_house_value, dtype: int64"
      ]
     },
     "execution_count": 35,
     "metadata": {},
     "output_type": "execute_result"
    }
   ],
   "source": [
    "df.groupby('ocean_proximity').count()['median_house_value']"
   ]
  },
  {
   "cell_type": "code",
   "execution_count": 33,
   "metadata": {},
   "outputs": [
    {
     "name": "stdout",
     "output_type": "stream",
     "text": [
      "Variable test entre 244682.7309 y 254185.2240\n",
      "Variable control entre 198877.3701 y 202246.9263\n",
      "Z score: -19.3893\n",
      "P value: 0.0000\n"
     ]
    }
   ],
   "source": [
    "control = df.query(\"ocean_proximity != 'NEAR OCEAN'\")['median_house_value']\n",
    "test = df.query(\"ocean_proximity == 'NEAR OCEAN'\")['median_house_value']\n",
    "\n",
    "AB_test(test, control)"
   ]
  },
  {
   "cell_type": "code",
   "execution_count": 34,
   "metadata": {},
   "outputs": [
    {
     "name": "stdout",
     "output_type": "stream",
     "text": [
      "Variable test entre 311995.8566 y 318152.4668\n",
      "Variable control entre 167944.4574 y 170854.9276\n",
      "Z score: -85.5663\n",
      "P value: 0.0000\n"
     ]
    }
   ],
   "source": [
    "df['high_income'] = df['median_income'] > 4.7\n",
    "test = df.query(\"high_income == True\")['median_house_value']\n",
    "control = df.query(\"high_income == False\")['median_house_value']\n",
    "\n",
    "AB_test(test, control)"
   ]
  },
  {
   "cell_type": "code",
   "execution_count": null,
   "metadata": {},
   "outputs": [],
   "source": []
  },
  {
   "cell_type": "code",
   "execution_count": 43,
   "metadata": {},
   "outputs": [
    {
     "name": "stdout",
     "output_type": "stream",
     "text": [
      "Variable test entre 204400.4811 y 208237.0816\n",
      "Variable control entre 205154.7974 y 211032.6174\n",
      "Z score: 1.0115\n",
      "P value: 0.8441\n"
     ]
    }
   ],
   "source": [
    "df = pd.read_csv('housing.csv')\n",
    "df['aleatorio'] = np.random.rand(len(df))\n",
    "df['prueba'] = df['aleatorio'] > 0.7\n",
    "\n",
    "test = df.query(\"prueba == False\")['median_house_value']\n",
    "control = df.query(\"prueba == True\")['median_house_value']\n",
    "AB_test(test, control)"
   ]
  },
  {
   "cell_type": "code",
   "execution_count": null,
   "metadata": {},
   "outputs": [],
   "source": []
  },
  {
   "cell_type": "code",
   "execution_count": null,
   "metadata": {},
   "outputs": [],
   "source": []
  },
  {
   "cell_type": "code",
   "execution_count": 45,
   "metadata": {},
   "outputs": [
    {
     "data": {
      "text/html": [
       "<table class=\"simpletable\">\n",
       "<tr>\n",
       "         <td></td>           <th>coef</th>     <th>std err</th>      <th>t</th>      <th>P>|t|</th>  <th>[0.025</th>    <th>0.975]</th>  \n",
       "</tr>\n",
       "<tr>\n",
       "  <th>Intercept</th>      <td> 4.899e+04</td> <td> 1555.709</td> <td>   31.491</td> <td> 0.000</td> <td> 4.59e+04</td> <td>  5.2e+04</td>\n",
       "</tr>\n",
       "<tr>\n",
       "  <th>prueba[T.True]</th> <td>  422.1983</td> <td> 1268.002</td> <td>    0.333</td> <td> 0.739</td> <td>-2063.186</td> <td> 2907.583</td>\n",
       "</tr>\n",
       "<tr>\n",
       "  <th>median_income</th>  <td>  4.18e+04</td> <td>  306.604</td> <td>  136.336</td> <td> 0.000</td> <td> 4.12e+04</td> <td> 4.24e+04</td>\n",
       "</tr>\n",
       "<tr>\n",
       "  <th>population</th>     <td>   -2.8498</td> <td>    0.514</td> <td>   -5.541</td> <td> 0.000</td> <td>   -3.858</td> <td>   -1.842</td>\n",
       "</tr>\n",
       "</table>"
      ],
      "text/latex": [
       "\\begin{center}\n",
       "\\begin{tabular}{lcccccc}\n",
       "\\toprule\n",
       "                        & \\textbf{coef} & \\textbf{std err} & \\textbf{t} & \\textbf{P$> |$t$|$} & \\textbf{[0.025} & \\textbf{0.975]}  \\\\\n",
       "\\midrule\n",
       "\\textbf{Intercept}      &    4.899e+04  &     1555.709     &    31.491  &         0.000        &     4.59e+04    &      5.2e+04     \\\\\n",
       "\\textbf{prueba[T.True]} &     422.1983  &     1268.002     &     0.333  &         0.739        &    -2063.186    &     2907.583     \\\\\n",
       "\\textbf{median\\_income} &     4.18e+04  &      306.604     &   136.336  &         0.000        &     4.12e+04    &     4.24e+04     \\\\\n",
       "\\textbf{population}     &      -2.8498  &        0.514     &    -5.541  &         0.000        &       -3.858    &       -1.842     \\\\\n",
       "\\bottomrule\n",
       "\\end{tabular}\n",
       "\\end{center}"
      ],
      "text/plain": [
       "<class 'statsmodels.iolib.table.SimpleTable'>"
      ]
     },
     "execution_count": 45,
     "metadata": {},
     "output_type": "execute_result"
    }
   ],
   "source": [
    "import statsmodels.formula.api as smf\n",
    "\n",
    "result = smf.ols('median_house_value ~ median_income + prueba + population', data=df).fit()\n",
    "result.summary().tables[1]"
   ]
  }
 ],
 "metadata": {
  "kernelspec": {
   "display_name": "Python 3",
   "language": "python",
   "name": "python3"
  },
  "language_info": {
   "codemirror_mode": {
    "name": "ipython",
    "version": 3
   },
   "file_extension": ".py",
   "mimetype": "text/x-python",
   "name": "python",
   "nbconvert_exporter": "python",
   "pygments_lexer": "ipython3",
   "version": "3.11.3"
  }
 },
 "nbformat": 4,
 "nbformat_minor": 4
}
