{
 "cells": [
  {
   "cell_type": "markdown",
   "metadata": {},
   "source": [
    "# ***Examen teórico parical 1***\n",
    "### Luis Eduardo Jiménez del Muro - 18/02/2025\n",
    "---"
   ]
  },
  {
   "cell_type": "markdown",
   "metadata": {},
   "source": [
    "### Sección 1: Conceptos Teóricos (40 puntos)\n",
    "**(5 pts) ¿Cuál es la diferencia entre una regresión lineal simple y una regresión lineal múltiple? Da un ejemplo de cada una.**\n",
    "\n",
    "La diferencia de la regresión lineal simple con la múltiple, es que en la simple solo tienes una variable predictora y en una múltiple existen 2 o más variables predictoras. Esto significa que en la simple se está ajustando una recta a los datos y en la múltiple se está ajustando un plano o incluso hiperplanos (si hay mas de 2 variables predictoras). \n",
    "\n",
    "Escrito en forma matemática se ve de la siguiente manera:\n",
    "\n",
    "+ *Regresión lineal simple:* $\\hat{y} = \\beta_0 + \\beta_1 x$ \n",
    "\n",
    "+ *Regresión lineal múltiple* $\\hat{y} = \\beta_0 + \\beta_1 x_1 + \\beta_2 x_2 + ... + \\beta_n x_n$\n",
    "\n",
    "Dónde $n$ es el número de variables predictoras a utilizar en el modelo.\n",
    "\n",
    "**(5 pts) Explica el problema de overfitting y cómo podrías mitigarlo**\n",
    "\n",
    "El overfitting sucede por razones como:\n",
    "\n",
    "1. Cuando tenemos una variable predictora en el modelo que es prácticamente la misma a la que estamos tratando de predecir. En este caso, sería la variable con mas importancia en el modelo.\n",
    "2. Cuando creamos un modelo que se ajuste a todos los datos. Por ejemplo si tenemos un conjunto de 20 datos y ajustamos una regresión polinómica de grado 20, estamos ajustando un polinomio a todos los datos\n",
    "\n",
    "Al tener overfitting nos puede causar que tengamos un R2 menor, es decir, que nuestro modelo deje de explicar la variabilidad de los datos, y con ello, convertirlo en un mal modelo.\n",
    "\n",
    "Para mitigarlo podemos utilizar funciones de pérdida con regularizaciones, por ejemplo:\n",
    "\n",
    "+ Ridge: $L = \\frac{1}{2} \\Sigma (\\hat{y}-y)^2 + \\Sigma \\beta^2$. Al elevarse las $\\beta$ al cuadrado hay penalizaciones para las mayores y así controla todos los coeficientes $\\beta$ hacíendolos mas pequeños.\n",
    "\n",
    "+ Lasso: $L = \\frac{1}{2} \\Sigma (\\hat{y}-y)^2 + \\Sigma |\\beta|$. Tambien penaliza los valores grandes de $\\beta$, pero al ser la suma de los valores absolutos esto puede llevar a que algunas $\\beta$ sean cero, y con ello, eliminarlas del modelo.\n",
    "\n",
    "\n",
    "**(5 pts) En regresión polinomial, ¿por qué es necesario realizar un análisis de validación cruzada antes de elegir el grado del polinomio?**\n",
    "\n",
    "Nos sirve porque al hacer regresion polinomial, cada que aumentemos el grado del polinomio vamos a tender al overfitting, entonces gracias al cross validation, podemos partir nuestros datos en un conjunto de entrenamiento y uno de prueba, y con ello, ir analizando cuando nuestro modelo mejora y cuando empeora dado que está empezando a memorizar.\n",
    "\n",
    "**(5 pts) ¿Qué es una prueba de hipótesis en el contexto de regresión lineal? Explica cómo se interpreta el p-value de un coeficiente.**\n",
    "\n",
    "En términos de regresión lineal, nos sirve para comprobar cuales variables son significativas, y así decidir si es conveniente utilizar esa variable en el modelo o no. Al hacer la prueba obtendrémos los P-Value, que significan la probabilidad de que la variable **NO** sea significativa para el modelo. \n",
    "\n",
    "Usualmente el nivel de confianza es de 95%, lo que significa que si el P-Value es mayor al 5%, entonces no hay evidencia estadística que pruebe que nuestra varible sea significativa en el modelo, por lo que tendríamos que descartarla. En otras palabras, si el P-Value es menor a 5%, entonces si hay evidencia para decir que nuestra variable es significativa.\n",
    "\n",
    "**(5 pts) ¿Por qué convertir variables categóricas en dummies puede mejorar el desempeño de un modelo? ¿En qué casos podríamos usar una codificación diferente?**\n",
    "\n",
    "Al crear variables dummy le estamos dando mas información al modelo. Por ejemplo si tenemos una columna con 10 paises diferentes, podemos crear 10 columnas nuevas que sean booleanas, en donde habrá 1 si cumple con el país o 0 si es un país diferente. Ahora, en lugar de tener una sola variable de país, tenemos 10, lo que puede mejorar la capacidad predictiva del modelo.\n",
    "\n",
    "Otro tipo de codificación que podemos utilizar es crear variables categóricas a partir de numéricas, en donde partimos una variable numérica en bins, posteriormente creamos dummies de esa columna de bins. Ahora no solo tenemos la columna numérica, sino tambien una clasificación de a que bin pertenece, y con ello, haciendo un modelo mas robusto y mayor capacidad predictiva.\n",
    "\n",
    "\n",
    "**(5 pts) Explica como se obtienen los coeficientes de una regresión lineal con decenso en gradiente (tanto para lineal como polinomio), me tiene que quedar claro que le entiendes**\n",
    "\n",
    "\n",
    "El descenso en gradiente es un algoritmo que a base de iterar encontrará las $\\beta$ que minimicen la función de pérdida del modelo. \n",
    "\n",
    "Definamos la regresión lineal como: \n",
    "\n",
    "$$\\hat{y}=\\beta_0 + \\beta_1 x_1 + \\beta_2 x_2 + ... + \\beta_n x_n$$\n",
    "\n",
    "Entonces la función de pérdida calculada como error cuadrático es:\n",
    "\n",
    "$$L = \\frac{1}{2} \\Sigma (\\hat{y}-y)^2$$\n",
    "\n",
    "Dado que está elevada al cuadrado, sabemos que si es una regresión lineal simple es una parábola y si es una múltiple será un paraboloide, por lo que, esta tendrá un mínimo. Entonces podemos evaluar de manera recursiva y utilizar el descenso en gradiente. \n",
    "\n",
    "Para ello, hay que repetir hasta converger lo siguiente:\n",
    "\n",
    "$$\\beta_i = \\beta_i - \\alpha \\frac{\\partial L}{\\partial \\beta_i} $$\n",
    "\n",
    "Donde $\\alpha$ es la tasa de aprendizaje y nos ayuda a determinar que tanto va a avanzar con cada actualización. Además restar el $\\alpha$ nos sirve para que también con cada iteración cambie el signo de la pendiente y así llegar al mínimo.  \n",
    "\n",
    "\n",
    "**(5 pts) Explica que es el teorema de Frisch-Waugh-Lovell**\n",
    "\n",
    "Este teorema dice que se puede obtener el efecto causal de una variable $x_1$ sobre $y$ a partir de otras variables y se demuestra de la siguiente manera:\n",
    "\n",
    "Dada una regresión $\\hat{y}=\\beta_0+\\beta_1 x_1+\\beta_2 x_2+\\beta_3 x_3$ podemos crear una regresión nueva en donde no utilicemos a $x_1$ como predictora en el modelo:\n",
    "\n",
    "$$\\hat{y} = \\theta_0 + \\theta_2 x_2 + \\theta_3 x_3$$\n",
    "\n",
    "Con esta regresión podemos obtener:\n",
    "\n",
    "$$\\text{resdiduales } y = y-\\hat{y}$$\n",
    "\n",
    "Estos residuales son lo que $x_2$ y $x_3$ no lograron explicar de $y$. \n",
    "\n",
    "Si posteriormente realizamos una regresión para tratar de predecir $x_1$ a partir de $x_2$ y $x_3$:\n",
    "\n",
    "$$\\hat{x_1} = \\gamma_0 + \\gamma_2 x_2 + \\gamma_3 x_3$$\n",
    "\n",
    "Con esta regresión podemos obtener:\n",
    "\n",
    "$$\\text{resdiduales } x = x-\\hat{x}$$\n",
    "\n",
    "Estos residuales son los que $x_2$ y $x_3$ no lograron explicar de $x_1$.\n",
    "\n",
    "Por último podemos realizar una regresión de los residuales de la forma:\n",
    "\n",
    "$$ y-\\hat{y} = \\beta_1 (x-\\hat{x}) $$\n",
    "\n",
    "Dado que $x_2$ y $x_3$ ya no están en esta regresión, significa que podemos obtener el efecto causal que tiene $x_1$ sobre $y$ sin la necesidad de utilizar $x_1$ misma en la regresión original, sino que basta con los residuales de otras regresiones, porque el $\\beta_1$ obtenido en la regresión de los residuales será el mismo que en la regresión original.\n",
    "\n",
    "**(5 pts) Explica que es K-nearest neighboors**\n",
    "\n",
    "Es un modelo que trata de predecir a partir de sus datos vecinos. El modelo funciona de la siguiente manera:\n",
    "1. Se define el número $k$ de vecinos.\n",
    "2. Se obtienen los $k$ vecinos mas cercanos a nuestra nueva observación (medidos con la distancia euclidiana).\n",
    "3. La predicción para la nueva observación será el promedio los valores de estos vecinos.\n",
    "\n",
    "### Sección 2 (20 puntos)\n",
    "\n",
    "(10 pts) Dado el siguiente dataset de casas:\n",
    "\n",
    "```\n",
    "data = pd.DataFrame({\n",
    "    \"Tamaño_m2\": [50, 80, 120, 200, 150, 90, 175, 60, 220, 130],\n",
    "    \"Habitaciones\": [1, 2, 3, 4, 3, 2, 3, 1, 5, 3],\n",
    "    \"Precio_1000s\": [110, 170, 250, 400, 270, 200, 330, 190, 600, 380]  })\n",
    "````\n",
    "\n",
    "\n",
    "\n",
    "**a) Ajusta una regresión lineal para predecir el precio en función del tamaño y número de habitaciones, dime el R2 y coeficientes.**\n"
   ]
  },
  {
   "cell_type": "code",
   "execution_count": 1,
   "metadata": {},
   "outputs": [],
   "source": [
    "from sklearn.metrics import r2_score\n",
    "from sklearn.linear_model import LinearRegression\n",
    "\n",
    "import pandas as pd\n",
    "import numpy as np"
   ]
  },
  {
   "cell_type": "code",
   "execution_count": 2,
   "metadata": {},
   "outputs": [
    {
     "name": "stdout",
     "output_type": "stream",
     "text": [
      "El R2 del modelo es de: 0.8662\n",
      "\n",
      "El intercepto del modelo es -0.0869\n",
      "\n",
      "Los coeficientes del modelo son:\n"
     ]
    },
    {
     "data": {
      "text/html": [
       "<div>\n",
       "<style scoped>\n",
       "    .dataframe tbody tr th:only-of-type {\n",
       "        vertical-align: middle;\n",
       "    }\n",
       "\n",
       "    .dataframe tbody tr th {\n",
       "        vertical-align: top;\n",
       "    }\n",
       "\n",
       "    .dataframe thead th {\n",
       "        text-align: right;\n",
       "    }\n",
       "</style>\n",
       "<table border=\"1\" class=\"dataframe\">\n",
       "  <thead>\n",
       "    <tr style=\"text-align: right;\">\n",
       "      <th></th>\n",
       "      <th>Variable</th>\n",
       "      <th>Coeficiente</th>\n",
       "    </tr>\n",
       "  </thead>\n",
       "  <tbody>\n",
       "    <tr>\n",
       "      <th>0</th>\n",
       "      <td>Tamaño_m2</td>\n",
       "      <td>0.4469</td>\n",
       "    </tr>\n",
       "    <tr>\n",
       "      <th>1</th>\n",
       "      <td>Habitaciones</td>\n",
       "      <td>86.3339</td>\n",
       "    </tr>\n",
       "  </tbody>\n",
       "</table>\n",
       "</div>"
      ],
      "text/plain": [
       "       Variable  Coeficiente\n",
       "0     Tamaño_m2       0.4469\n",
       "1  Habitaciones      86.3339"
      ]
     },
     "metadata": {},
     "output_type": "display_data"
    }
   ],
   "source": [
    "data = pd.DataFrame({\n",
    "    \"Tamaño_m2\": [50, 80, 120, 200, 150, 90, 175, 60, 220, 130],\n",
    "    \"Habitaciones\": [1, 2, 3, 4, 3, 2, 3, 1, 5, 3],\n",
    "    \"Precio_1000s\": [110, 170, 250, 400, 270, 200, 330, 190, 600, 380]  })\n",
    "\n",
    "target = 'Precio_1000s'\n",
    "X = data.drop(columns=target)\n",
    "y = data[target]\n",
    "\n",
    "model = LinearRegression().fit(X, y)\n",
    "r2 = r2_score(y_pred=model.predict(X), y_true=y)\n",
    "\n",
    "resultados = pd.DataFrame({\n",
    "    'Variable': X.columns,\n",
    "    'Coeficiente': model.coef_,\n",
    "    })\n",
    "\n",
    "print(f'El R2 del modelo es de: {r2:.4f}')\n",
    "print(f'\\nEl intercepto del modelo es {model.intercept_:.4f}')\n",
    "print(f'\\nLos coeficientes del modelo son:')\n",
    "display(resultados.round(4))"
   ]
  },
  {
   "cell_type": "markdown",
   "metadata": {},
   "source": [
    "**b) Imagina que el coeficiente de Tamaño es 2.5 y el coeficiente de Habitaciones es 20, ¿cómo interpretarías estos valores?** \n",
    "\n",
    "+ Por cada metro cuadrado que aumente, el precio aumentará 2.5 dólares.\n",
    "+ Por cada habitación que aumente, el precio aumentará 20 dólares."
   ]
  },
  {
   "cell_type": "markdown",
   "metadata": {},
   "source": [
    "**(20 pts) Imagina que entrenas un modelo de regresión polinomial de grado 5 y obtienes un 𝑅2 de 0.98 en el conjunto de entrenamiento y 0.65 en el conjunto de prueba.**\n",
    "\n",
    "- a) ¿Qué problema podrías estar enfrentando?\n",
    "\n",
    "Es un problema claro de overfitting, dado que el conjunto de prueba lo memorizó a la perfección. A la hora de darle nuevos datos, no pudo predecir al mismo nivel, dado que memorizó el entrenamiento y no estuvo preparado para la realidad.\n",
    "\n",
    "- b) ¿Cómo lo solucionarías sin reducir demasiado la capacidad del modelo?\n",
    "\n",
    "*Solución 1:* Bajar el grado del polinomio, para que el modelo se ajuste a menos datos equlibrando el R2 del train y del test.\n",
    "\n",
    "*Solución 2:* Probar utilizando una regularización Ridge o Lasso y ver si el R2 mejora."
   ]
  },
  {
   "cell_type": "markdown",
   "metadata": {},
   "source": [
    "### Sección 3: Implementación de Código (40 puntos)\n"
   ]
  },
  {
   "cell_type": "markdown",
   "metadata": {},
   "source": [
    "\n",
    "1- En el dataset Advertising.csv estan las ventas de una empresa y hay 3 canales de distribuición:\n",
    "    \n",
    "- radio\n",
    "- Televisión\n",
    "- Periodico\n",
    "\n",
    "\n",
    "La empresa quiere simplificar su operción y eliminar aquellos canales que no traen ventas.\n",
    "\n",
    "Dime que canal o canales no sirven con una prueba de hipotesis y una regresión\n",
    "\n",
    "\n",
    "    "
   ]
  },
  {
   "cell_type": "markdown",
   "metadata": {},
   "source": [
    "### Limpieza de datos"
   ]
  },
  {
   "cell_type": "code",
   "execution_count": 3,
   "metadata": {},
   "outputs": [
    {
     "data": {
      "text/html": [
       "<div>\n",
       "<style scoped>\n",
       "    .dataframe tbody tr th:only-of-type {\n",
       "        vertical-align: middle;\n",
       "    }\n",
       "\n",
       "    .dataframe tbody tr th {\n",
       "        vertical-align: top;\n",
       "    }\n",
       "\n",
       "    .dataframe thead th {\n",
       "        text-align: right;\n",
       "    }\n",
       "</style>\n",
       "<table border=\"1\" class=\"dataframe\">\n",
       "  <thead>\n",
       "    <tr style=\"text-align: right;\">\n",
       "      <th></th>\n",
       "      <th>Unnamed: 0</th>\n",
       "      <th>TV</th>\n",
       "      <th>radio</th>\n",
       "      <th>newspaper</th>\n",
       "      <th>sales</th>\n",
       "    </tr>\n",
       "  </thead>\n",
       "  <tbody>\n",
       "    <tr>\n",
       "      <th>0</th>\n",
       "      <td>1</td>\n",
       "      <td>230.1</td>\n",
       "      <td>37.8</td>\n",
       "      <td>69.2</td>\n",
       "      <td>22.1</td>\n",
       "    </tr>\n",
       "    <tr>\n",
       "      <th>1</th>\n",
       "      <td>2</td>\n",
       "      <td>44.5</td>\n",
       "      <td>39.3</td>\n",
       "      <td>45.1</td>\n",
       "      <td>10.4</td>\n",
       "    </tr>\n",
       "    <tr>\n",
       "      <th>2</th>\n",
       "      <td>3</td>\n",
       "      <td>17.2</td>\n",
       "      <td>45.9</td>\n",
       "      <td>69.3</td>\n",
       "      <td>9.3</td>\n",
       "    </tr>\n",
       "    <tr>\n",
       "      <th>3</th>\n",
       "      <td>4</td>\n",
       "      <td>151.5</td>\n",
       "      <td>41.3</td>\n",
       "      <td>58.5</td>\n",
       "      <td>18.5</td>\n",
       "    </tr>\n",
       "    <tr>\n",
       "      <th>4</th>\n",
       "      <td>5</td>\n",
       "      <td>180.8</td>\n",
       "      <td>10.8</td>\n",
       "      <td>58.4</td>\n",
       "      <td>12.9</td>\n",
       "    </tr>\n",
       "  </tbody>\n",
       "</table>\n",
       "</div>"
      ],
      "text/plain": [
       "   Unnamed: 0     TV  radio  newspaper  sales\n",
       "0           1  230.1   37.8       69.2   22.1\n",
       "1           2   44.5   39.3       45.1   10.4\n",
       "2           3   17.2   45.9       69.3    9.3\n",
       "3           4  151.5   41.3       58.5   18.5\n",
       "4           5  180.8   10.8       58.4   12.9"
      ]
     },
     "execution_count": 3,
     "metadata": {},
     "output_type": "execute_result"
    }
   ],
   "source": [
    "df = pd.read_csv('Advertising.csv')\n",
    "df.head()"
   ]
  },
  {
   "cell_type": "markdown",
   "metadata": {},
   "source": [
    "Hay que eliminar la columna \"Unnamed:\" 0 dado que es un índice de los datos"
   ]
  },
  {
   "cell_type": "code",
   "execution_count": 4,
   "metadata": {},
   "outputs": [
    {
     "data": {
      "text/html": [
       "<div>\n",
       "<style scoped>\n",
       "    .dataframe tbody tr th:only-of-type {\n",
       "        vertical-align: middle;\n",
       "    }\n",
       "\n",
       "    .dataframe tbody tr th {\n",
       "        vertical-align: top;\n",
       "    }\n",
       "\n",
       "    .dataframe thead th {\n",
       "        text-align: right;\n",
       "    }\n",
       "</style>\n",
       "<table border=\"1\" class=\"dataframe\">\n",
       "  <thead>\n",
       "    <tr style=\"text-align: right;\">\n",
       "      <th></th>\n",
       "      <th>TV</th>\n",
       "      <th>radio</th>\n",
       "      <th>newspaper</th>\n",
       "      <th>sales</th>\n",
       "    </tr>\n",
       "  </thead>\n",
       "  <tbody>\n",
       "    <tr>\n",
       "      <th>0</th>\n",
       "      <td>230.1</td>\n",
       "      <td>37.8</td>\n",
       "      <td>69.2</td>\n",
       "      <td>22.1</td>\n",
       "    </tr>\n",
       "    <tr>\n",
       "      <th>1</th>\n",
       "      <td>44.5</td>\n",
       "      <td>39.3</td>\n",
       "      <td>45.1</td>\n",
       "      <td>10.4</td>\n",
       "    </tr>\n",
       "    <tr>\n",
       "      <th>2</th>\n",
       "      <td>17.2</td>\n",
       "      <td>45.9</td>\n",
       "      <td>69.3</td>\n",
       "      <td>9.3</td>\n",
       "    </tr>\n",
       "    <tr>\n",
       "      <th>3</th>\n",
       "      <td>151.5</td>\n",
       "      <td>41.3</td>\n",
       "      <td>58.5</td>\n",
       "      <td>18.5</td>\n",
       "    </tr>\n",
       "    <tr>\n",
       "      <th>4</th>\n",
       "      <td>180.8</td>\n",
       "      <td>10.8</td>\n",
       "      <td>58.4</td>\n",
       "      <td>12.9</td>\n",
       "    </tr>\n",
       "  </tbody>\n",
       "</table>\n",
       "</div>"
      ],
      "text/plain": [
       "      TV  radio  newspaper  sales\n",
       "0  230.1   37.8       69.2   22.1\n",
       "1   44.5   39.3       45.1   10.4\n",
       "2   17.2   45.9       69.3    9.3\n",
       "3  151.5   41.3       58.5   18.5\n",
       "4  180.8   10.8       58.4   12.9"
      ]
     },
     "execution_count": 4,
     "metadata": {},
     "output_type": "execute_result"
    }
   ],
   "source": [
    "df = df.drop(columns='Unnamed: 0')\n",
    "df.head()"
   ]
  },
  {
   "cell_type": "markdown",
   "metadata": {},
   "source": [
    "### Haciendo prueba de hipótesis con una regresión"
   ]
  },
  {
   "cell_type": "code",
   "execution_count": 5,
   "metadata": {},
   "outputs": [
    {
     "data": {
      "text/html": [
       "<table class=\"simpletable\">\n",
       "<tr>\n",
       "      <td></td>         <th>coef</th>     <th>std err</th>      <th>t</th>      <th>P>|t|</th>  <th>[0.025</th>    <th>0.975]</th>  \n",
       "</tr>\n",
       "<tr>\n",
       "  <th>Intercept</th> <td>    2.9389</td> <td>    0.312</td> <td>    9.422</td> <td> 0.000</td> <td>    2.324</td> <td>    3.554</td>\n",
       "</tr>\n",
       "<tr>\n",
       "  <th>TV</th>        <td>    0.0458</td> <td>    0.001</td> <td>   32.809</td> <td> 0.000</td> <td>    0.043</td> <td>    0.049</td>\n",
       "</tr>\n",
       "<tr>\n",
       "  <th>radio</th>     <td>    0.1885</td> <td>    0.009</td> <td>   21.893</td> <td> 0.000</td> <td>    0.172</td> <td>    0.206</td>\n",
       "</tr>\n",
       "<tr>\n",
       "  <th>newspaper</th> <td>   -0.0010</td> <td>    0.006</td> <td>   -0.177</td> <td> 0.860</td> <td>   -0.013</td> <td>    0.011</td>\n",
       "</tr>\n",
       "</table>"
      ],
      "text/latex": [
       "\\begin{center}\n",
       "\\begin{tabular}{lcccccc}\n",
       "\\toprule\n",
       "                   & \\textbf{coef} & \\textbf{std err} & \\textbf{t} & \\textbf{P$> |$t$|$} & \\textbf{[0.025} & \\textbf{0.975]}  \\\\\n",
       "\\midrule\n",
       "\\textbf{Intercept} &       2.9389  &        0.312     &     9.422  &         0.000        &        2.324    &        3.554     \\\\\n",
       "\\textbf{TV}        &       0.0458  &        0.001     &    32.809  &         0.000        &        0.043    &        0.049     \\\\\n",
       "\\textbf{radio}     &       0.1885  &        0.009     &    21.893  &         0.000        &        0.172    &        0.206     \\\\\n",
       "\\textbf{newspaper} &      -0.0010  &        0.006     &    -0.177  &         0.860        &       -0.013    &        0.011     \\\\\n",
       "\\bottomrule\n",
       "\\end{tabular}\n",
       "\\end{center}"
      ],
      "text/plain": [
       "<class 'statsmodels.iolib.table.SimpleTable'>"
      ]
     },
     "execution_count": 5,
     "metadata": {},
     "output_type": "execute_result"
    }
   ],
   "source": [
    "import statsmodels.formula.api as smf\n",
    "\n",
    "result = smf.ols('sales ~ TV + radio + newspaper', data=df).fit()\n",
    "result.summary().tables[1]"
   ]
  },
  {
   "cell_type": "markdown",
   "metadata": {},
   "source": [
    "#### Conclusiones de la regresión"
   ]
  },
  {
   "cell_type": "markdown",
   "metadata": {},
   "source": [
    "* Los P-Value de \"TV\" y \"radio\" son de 0 y utilizando un nivel de confianza del 95%, hay evidencia estadística suficiente para probar que esas variables son significativas para el modelo.\n",
    "\n",
    "* Por otro lado, el P-Value de \"newspapaer\" es de 0.86, por lo que utilziando un nivel de confianza del 95%, no hay evidencia suficiente para probar que la variable sea significativa para el modelo.\n",
    "\n",
    "* Por lo tanto, descartar el canal de los periódicos."
   ]
  }
 ],
 "metadata": {
  "kernelspec": {
   "display_name": "Python 3",
   "language": "python",
   "name": "python3"
  },
  "language_info": {
   "codemirror_mode": {
    "name": "ipython",
    "version": 3
   },
   "file_extension": ".py",
   "mimetype": "text/x-python",
   "name": "python",
   "nbconvert_exporter": "python",
   "pygments_lexer": "ipython3",
   "version": "3.11.3"
  }
 },
 "nbformat": 4,
 "nbformat_minor": 4
}
