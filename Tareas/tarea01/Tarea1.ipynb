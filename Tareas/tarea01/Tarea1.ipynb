{
 "cells": [
  {
   "cell_type": "markdown",
   "metadata": {},
   "source": [
    "Crea una regresión lineal con los demás inputs numericos\n",
    "\n",
    "'housing_median_age', 'total_rooms',\n",
    "'total_bedrooms', 'population', 'households'\n",
    "\n",
    "- Realiza un analisis bivariado de cada uno de estos\n",
    "- Escribe la ecuación del modelo \n",
    "- Obtener R2 y mean squared error\n",
    "- Grafica las predicciones \n",
    "\n",
    "Responde la pregunta: ¿Cuál es el mejor modelo de estos? ¿Por qué?"
   ]
  },
  {
   "cell_type": "code",
   "execution_count": null,
   "metadata": {},
   "outputs": [],
   "source": []
  }
 ],
 "metadata": {
  "kernelspec": {
   "display_name": "Python 3",
   "language": "python",
   "name": "python3"
  },
  "language_info": {
   "codemirror_mode": {
    "name": "ipython",
    "version": 3
   },
   "file_extension": ".py",
   "mimetype": "text/x-python",
   "name": "python",
   "nbconvert_exporter": "python",
   "pygments_lexer": "ipython3",
   "version": "3.8.5"
  }
 },
 "nbformat": 4,
 "nbformat_minor": 4
}
