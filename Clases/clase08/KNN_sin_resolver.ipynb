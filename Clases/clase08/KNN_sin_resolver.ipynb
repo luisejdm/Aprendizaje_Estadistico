{
 "cells": [
  {
   "cell_type": "code",
   "execution_count": 1,
   "metadata": {},
   "outputs": [],
   "source": [
    "import pandas as pd\n",
    "from sklearn.neighbors import KNeighborsRegressor\n",
    "from sklearn.model_selection import train_test_split\n",
    "from sklearn.preprocessing import StandardScaler\n",
    "import numpy as np\n",
    "from sklearn.metrics import r2_score\n",
    "import matplotlib.pyplot as plt\n",
    "\n",
    "colors = [\"cornflowerblue\", \"indianred\", \"darkseagreen\", \"plum\", \"dimgray\"]"
   ]
  },
  {
   "cell_type": "markdown",
   "metadata": {},
   "source": [
    "KNN (K-Nearest Neighbors) es un algoritmo de aprendizaje supervisado usado para clasificación y regresión. Su principio es simple: predice un valor o categoría basado en los K vecinos más cercanos en el espacio de características.\n",
    "\n",
    "\n",
    "1- Se elige un número  K de vecinos (hiperparámetro).\n",
    "\n",
    "2- Para una nueva observación, se calculan las distancias con todos los datos de entrenamiento.\n",
    "\n",
    "3- Se seleccionan los  K vecinos más cercanos. \n",
    "\n",
    "4- Se predice el promedio de los valores de los K vecinos.\n",
    "\n",
    "\n",
    "## Para determinar los vecinos más cercanos\n",
    "\n",
    "### Definición General\n",
    "La distancia euclidiana entre dos puntos \\( A \\) y \\( B \\) en un espacio \\( n \\)-dimensional se define como:\n",
    "\n",
    "$$\n",
    "d(A, B) = \\sqrt{\\sum_{i=1}^{n} (x_i^A - x_i^B)^2}\n",
    "$$\n",
    "\n",
    "#### Casos Específicos\n",
    "\n",
    "### Caso en Dos Dimensiones\n",
    "En un espacio bidimensional (\\( n = 2 \\)):\n",
    "\n",
    "$$\n",
    "d(A, B) = \\sqrt{(x_2 - x_1)^2 + (y_2 - y_1)^2}\n",
    "$$\n",
    "\n",
    "### Caso en Tres Dimensiones\n",
    "En un espacio tridimensional (\\( n = 3 \\)):\n",
    "\n",
    "$$\n",
    "d(A, B) = \\sqrt{(x_2 - x_1)^2 + (y_2 - y_1)^2 + (z_2 - z_1)^2}\n",
    "$$\n",
    "\n",
    "**Ejemplo Numérico:**\n",
    "Si tenemos los puntos \\( A(1,2,3) \\) y \\( B(4,6,8) \\), la distancia euclidiana es:\n",
    "\n",
    "$$\n",
    "d(A, B) = \\sqrt{(4 - 1)^2 + (6 - 2)^2 + (8 - 3)^2} = \\sqrt{9 + 16 + 25} = \\sqrt{50} \\approx 7.07\n",
    "$$\n",
    "\n"
   ]
  },
  {
   "cell_type": "code",
   "execution_count": 2,
   "metadata": {},
   "outputs": [],
   "source": [
    "### Ejemplo distancie uclidiana"
   ]
  },
  {
   "cell_type": "code",
   "execution_count": 3,
   "metadata": {},
   "outputs": [],
   "source": [
    "df = pd.read_csv('housing.csv')\n",
    "df = pd.get_dummies(df)\n",
    "df['total_bedrooms'] = df['total_bedrooms'].fillna(df.total_bedrooms.mean())"
   ]
  },
  {
   "cell_type": "code",
   "execution_count": null,
   "metadata": {},
   "outputs": [],
   "source": []
  },
  {
   "cell_type": "code",
   "execution_count": 4,
   "metadata": {},
   "outputs": [],
   "source": [
    "### Crea el modelo KNN y realiza cross validation "
   ]
  },
  {
   "cell_type": "code",
   "execution_count": 5,
   "metadata": {},
   "outputs": [
    {
     "data": {
      "text/plain": [
       "0.7010527738890389"
      ]
     },
     "execution_count": 5,
     "metadata": {},
     "output_type": "execute_result"
    }
   ],
   "source": [
    "X = df.copy().drop('median_house_value', axis=1) \n",
    "y = df['median_house_value']\n",
    "\n",
    "X_train, X_test, y_train, y_test = train_test_split(X, y, test_size=0.3, random_state=42)\n",
    "\n",
    "scaler = StandardScaler()\n",
    "X_train_scaled = scaler.fit_transform(X_train)\n",
    "X_test_scaled = scaler.transform(X_test)\n",
    "\n",
    "model = KNeighborsRegressor(n_neighbors=4).fit(X_train_scaled, y_train)\n",
    "predicciones = model.predict(X_test_scaled)\n",
    "\n",
    "r2_score(y_true=y_test, y_pred=predicciones)"
   ]
  },
  {
   "cell_type": "code",
   "execution_count": 6,
   "metadata": {},
   "outputs": [],
   "source": [
    "nn = []\n",
    "r2 = []\n",
    "r2_train = []\n",
    "for i in range(1, 60):\n",
    "    model = KNeighborsRegressor(n_neighbors=i).fit(X_train_scaled, y_train)\n",
    "    predicciones = model.predict(X_test_scaled)\n",
    "    r2.append(r2_score(y_true=y_test, y_pred=predicciones))\n",
    "    nn.append(i)\n",
    "    predicciones_train = model.predict(X_train_scaled)\n",
    "    r2_train.append(r2_score(y_true=y_train, y_pred=predicciones_train))"
   ]
  },
  {
   "cell_type": "code",
   "execution_count": 7,
   "metadata": {},
   "outputs": [
    {
     "data": {
      "image/png": "[encoded data removed]",
      "text/plain": [
       "<Figure size 1000x500 with 1 Axes>"
      ]
     },
     "metadata": {},
     "output_type": "display_data"
    }
   ],
   "source": [
    "resultados = pd.DataFrame({'r2': r2, 'nn': nn, 'r2_train': r2_train})\n",
    "\n",
    "plt.figure(figsize=(10, 5))\n",
    "plt.plot(resultados.nn, resultados.r2, label='real', color=colors[0], marker='o')\n",
    "plt.plot(resultados.nn, resultados.r2_train, label='train', color=colors[1], marker='o')\n",
    "plt.grid()"
   ]
  }
 ],
 "metadata": {
  "kernelspec": {
   "display_name": "Python 3",
   "language": "python",
   "name": "python3"
  },
  "language_info": {
   "codemirror_mode": {
    "name": "ipython",
    "version": 3
   },
   "file_extension": ".py",
   "mimetype": "text/x-python",
   "name": "python",
   "nbconvert_exporter": "python",
   "pygments_lexer": "ipython3",
   "version": "3.11.3"
  }
 },
 "nbformat": 4,
 "nbformat_minor": 4
}
